{
 "cells": [
  {
   "cell_type": "markdown",
   "metadata": {},
   "source": [
    "# Block 6 Exercise 1: Non-Linear Classification"
   ]
  },
  {
   "cell_type": "markdown",
   "metadata": {},
   "source": [
    "## MNIST Data\n",
    "We return to the MNIST data set on handwritten digits to compare non-linear classification algorithms ...   "
   ]
  },
  {
   "cell_type": "code",
   "execution_count": 1,
   "metadata": {},
   "outputs": [],
   "source": [
    "#imports \n",
    "import matplotlib.pyplot as plt\n",
    "import numpy as np\n",
    "from sklearn.datasets import fetch_openml"
   ]
  },
  {
   "cell_type": "code",
   "execution_count": 2,
   "metadata": {},
   "outputs": [],
   "source": [
    "# Load data from https://www.openml.org/d/554\n",
    "X, y = fetch_openml('mnist_784', version=1, return_X_y=True)\n"
   ]
  },
  {
   "cell_type": "code",
   "execution_count": 3,
   "metadata": {},
   "outputs": [
    {
     "data": {
      "text/plain": [
       "(70000, 784)"
      ]
     },
     "execution_count": 3,
     "metadata": {},
     "output_type": "execute_result"
    }
   ],
   "source": [
    "#the full MNIST data set contains 70k samples of digits 0-9 as 28*28 gray scale images (represented as 784 dim vectors)\n",
    "np.shape(X)"
   ]
  },
  {
   "cell_type": "code",
   "execution_count": 4,
   "metadata": {},
   "outputs": [
    {
     "data": {
      "text/plain": [
       "0.0"
      ]
     },
     "execution_count": 4,
     "metadata": {},
     "output_type": "execute_result"
    }
   ],
   "source": [
    "X.min()"
   ]
  },
  {
   "cell_type": "code",
   "execution_count": 5,
   "metadata": {},
   "outputs": [
    {
     "data": {
      "text/plain": [
       "255.0"
      ]
     },
     "execution_count": 5,
     "metadata": {},
     "output_type": "execute_result"
    }
   ],
   "source": [
    "#look at max/min value in the data\n",
    "X.max()"
   ]
  },
  {
   "cell_type": "markdown",
   "metadata": {},
   "source": [
    "### E1.1: Cross-Validation and Support Vector Machines\n",
    "Train and optimize  C-SVM classifier on MNIST (https://scikit-learn.org/stable/modules/generated/sklearn.svm.SVC.html#sklearn.svm.SVC)\n",
    "* use a RBF kernel\n",
    "* use *random search* with cross-validation to find the best settings for *gamma* and *C* (https://scikit-learn.org/stable/modules/generated/sklearn.model_selection.RandomizedSearchCV.html#sklearn.model_selection.RandomizedSearchCV)"
   ]
  },
  {
   "cell_type": "code",
   "execution_count": 31,
   "metadata": {},
   "outputs": [],
   "source": [
    "#split in train and test\n",
    "from sklearn.model_selection import train_test_split\n",
    "X_train, X_test, y_train, y_test = train_test_split(X, y)"
   ]
  },
  {
   "cell_type": "code",
   "execution_count": 8,
   "metadata": {},
   "outputs": [],
   "source": [
    "#imports\n",
    "from sklearn.svm import SVC\n",
    "from sklearn.model_selection import RandomizedSearchCV\n",
    "from scipy.stats import uniform\n"
   ]
  },
  {
   "cell_type": "code",
   "execution_count": 44,
   "metadata": {},
   "outputs": [
    {
     "data": {
      "text/plain": [
       "SVC(C=1.0, break_ties=False, cache_size=200, class_weight=None, coef0=0.0,\n",
       "    decision_function_shape='ovr', degree=3, gamma='scale', kernel='rbf',\n",
       "    max_iter=-1, probability=False, random_state=None, shrinking=True,\n",
       "    tol=0.001, verbose=False)"
      ]
     },
     "execution_count": 44,
     "metadata": {},
     "output_type": "execute_result"
    }
   ],
   "source": [
    "#test default SVM \n",
    "svm = SVC()\n",
    "svm.fit(X_train,y_train)"
   ]
  },
  {
   "cell_type": "code",
   "execution_count": 45,
   "metadata": {},
   "outputs": [
    {
     "data": {
      "text/plain": [
       "0.9790857142857143"
      ]
     },
     "execution_count": 45,
     "metadata": {},
     "output_type": "execute_result"
    }
   ],
   "source": [
    "svm.score(X_test,y_test)"
   ]
  },
  {
   "cell_type": "code",
   "execution_count": 46,
   "metadata": {},
   "outputs": [
    {
     "data": {
      "text/plain": [
       "SVC(C=1.0, break_ties=False, cache_size=200, class_weight=None, coef0=0.0,\n",
       "    decision_function_shape='ovr', degree=3, gamma='scale', kernel='rbf',\n",
       "    max_iter=-1, probability=False, random_state=None, shrinking=True,\n",
       "    tol=0.001, verbose=False)"
      ]
     },
     "execution_count": 46,
     "metadata": {},
     "output_type": "execute_result"
    }
   ],
   "source": [
    "#see what we get with only parts ofthe data\n",
    "svm.fit(X_train[:1000,:],y_train[:1000])"
   ]
  },
  {
   "cell_type": "code",
   "execution_count": 47,
   "metadata": {},
   "outputs": [
    {
     "data": {
      "text/plain": [
       "0.9156571428571428"
      ]
     },
     "execution_count": 47,
     "metadata": {},
     "output_type": "execute_result"
    }
   ],
   "source": [
    "svm.score(X_test,y_test)"
   ]
  },
  {
   "cell_type": "code",
   "execution_count": 48,
   "metadata": {},
   "outputs": [],
   "source": [
    "svm = SVC() #rbf is default kernel\n",
    "parameters = dict(C=[0.1,1,2,5,10,100],gamma=[10,5, 1,0.1,'scale']) #create search space\n",
    "search = RandomizedSearchCV(svm, parameters, n_jobs=4,n_iter=20, cv=5,random_state=0)\n",
    "#set state to get reproducable experiments\n",
    "#use 4 jobs in parallel\n",
    "#do 20 itteration\n",
    "#number of cv foldes: 5"
   ]
  },
  {
   "cell_type": "code",
   "execution_count": 49,
   "metadata": {},
   "outputs": [],
   "source": [
    "#start serach\n",
    "res=search.fit(X_train[:1000,:],y_train[:1000]) #use subset of the date to speed things up (use full data for real experiment!)"
   ]
  },
  {
   "cell_type": "code",
   "execution_count": 50,
   "metadata": {},
   "outputs": [
    {
     "data": {
      "text/plain": [
       "{'gamma': 'scale', 'C': 2}"
      ]
     },
     "execution_count": 50,
     "metadata": {},
     "output_type": "execute_result"
    }
   ],
   "source": [
    "#get best parameters\n",
    "res.best_params_"
   ]
  },
  {
   "cell_type": "code",
   "execution_count": 51,
   "metadata": {},
   "outputs": [
    {
     "data": {
      "text/plain": [
       "0.924"
      ]
     },
     "execution_count": 51,
     "metadata": {},
     "output_type": "execute_result"
    }
   ],
   "source": [
    "#get best score\n",
    "res.best_score_"
   ]
  },
  {
   "cell_type": "code",
   "execution_count": 52,
   "metadata": {},
   "outputs": [
    {
     "data": {
      "text/plain": [
       "{'mean_fit_time': array([1.35058694, 1.35399504, 1.3662179 , 1.41237798, 1.35056891,\n",
       "        0.77285037, 1.39339161, 1.39500165, 1.38919196, 1.39730558,\n",
       "        1.36389647, 1.43803172, 1.46460943, 0.77585039, 1.40573502,\n",
       "        1.40230646, 1.40124378, 0.77807813, 1.41461   , 1.1725184 ]),\n",
       " 'std_fit_time': array([0.04089051, 0.02660707, 0.01657317, 0.03835837, 0.03562915,\n",
       "        0.0226934 , 0.02931192, 0.024014  , 0.03614655, 0.04282403,\n",
       "        0.024333  , 0.03991168, 0.05959843, 0.03181399, 0.01593967,\n",
       "        0.01558785, 0.01027626, 0.02817054, 0.01669424, 0.11730277]),\n",
       " 'mean_score_time': array([0.20376859, 0.19633608, 0.20086279, 0.19717579, 0.20150042,\n",
       "        0.16203618, 0.19815879, 0.19999352, 0.20443554, 0.19607372,\n",
       "        0.20010166, 0.20365028, 0.21576571, 0.16151285, 0.19886379,\n",
       "        0.20086184, 0.19866281, 0.16096673, 0.20074658, 0.18205552]),\n",
       " 'std_score_time': array([0.01409166, 0.00513725, 0.00971663, 0.00395101, 0.00916717,\n",
       "        0.00466845, 0.00506305, 0.00765651, 0.01515011, 0.00375006,\n",
       "        0.00921643, 0.00442924, 0.02427375, 0.00599664, 0.00351581,\n",
       "        0.00541715, 0.00405097, 0.00190387, 0.00486707, 0.01988462]),\n",
       " 'param_gamma': masked_array(data=[1, 0.1, 0.1, 10, 5, 'scale', 1, 5, 1, 1, 10, 5, 0.1,\n",
       "                    'scale', 0.1, 10, 5, 'scale', 5, 'scale'],\n",
       "              mask=[False, False, False, False, False, False, False, False,\n",
       "                    False, False, False, False, False, False, False, False,\n",
       "                    False, False, False, False],\n",
       "        fill_value='?',\n",
       "             dtype=object),\n",
       " 'param_C': masked_array(data=[0.1, 100, 2, 2, 100, 10, 100, 2, 5, 10, 1, 5, 1, 2, 10,\n",
       "                    10, 0.1, 100, 1, 0.1],\n",
       "              mask=[False, False, False, False, False, False, False, False,\n",
       "                    False, False, False, False, False, False, False, False,\n",
       "                    False, False, False, False],\n",
       "        fill_value='?',\n",
       "             dtype=object),\n",
       " 'params': [{'gamma': 1, 'C': 0.1},\n",
       "  {'gamma': 0.1, 'C': 100},\n",
       "  {'gamma': 0.1, 'C': 2},\n",
       "  {'gamma': 10, 'C': 2},\n",
       "  {'gamma': 5, 'C': 100},\n",
       "  {'gamma': 'scale', 'C': 10},\n",
       "  {'gamma': 1, 'C': 100},\n",
       "  {'gamma': 5, 'C': 2},\n",
       "  {'gamma': 1, 'C': 5},\n",
       "  {'gamma': 1, 'C': 10},\n",
       "  {'gamma': 10, 'C': 1},\n",
       "  {'gamma': 5, 'C': 5},\n",
       "  {'gamma': 0.1, 'C': 1},\n",
       "  {'gamma': 'scale', 'C': 2},\n",
       "  {'gamma': 0.1, 'C': 10},\n",
       "  {'gamma': 10, 'C': 10},\n",
       "  {'gamma': 5, 'C': 0.1},\n",
       "  {'gamma': 'scale', 'C': 100},\n",
       "  {'gamma': 5, 'C': 1},\n",
       "  {'gamma': 'scale', 'C': 0.1}],\n",
       " 'split0_test_score': array([0.12 , 0.12 , 0.12 , 0.12 , 0.12 , 0.905, 0.12 , 0.12 , 0.12 ,\n",
       "        0.12 , 0.12 , 0.12 , 0.12 , 0.915, 0.12 , 0.12 , 0.12 , 0.905,\n",
       "        0.12 , 0.705]),\n",
       " 'split1_test_score': array([0.115, 0.115, 0.115, 0.115, 0.115, 0.945, 0.115, 0.115, 0.115,\n",
       "        0.115, 0.115, 0.115, 0.115, 0.95 , 0.115, 0.115, 0.115, 0.945,\n",
       "        0.115, 0.72 ]),\n",
       " 'split2_test_score': array([0.115, 0.115, 0.115, 0.115, 0.115, 0.915, 0.115, 0.115, 0.115,\n",
       "        0.115, 0.115, 0.115, 0.115, 0.92 , 0.115, 0.115, 0.115, 0.915,\n",
       "        0.115, 0.71 ]),\n",
       " 'split3_test_score': array([0.12 , 0.12 , 0.12 , 0.12 , 0.12 , 0.925, 0.12 , 0.12 , 0.12 ,\n",
       "        0.12 , 0.12 , 0.12 , 0.12 , 0.935, 0.12 , 0.12 , 0.12 , 0.925,\n",
       "        0.12 , 0.68 ]),\n",
       " 'split4_test_score': array([0.12 , 0.12 , 0.12 , 0.12 , 0.12 , 0.9  , 0.12 , 0.12 , 0.12 ,\n",
       "        0.12 , 0.12 , 0.12 , 0.12 , 0.9  , 0.12 , 0.12 , 0.12 , 0.9  ,\n",
       "        0.12 , 0.705]),\n",
       " 'mean_test_score': array([0.118, 0.118, 0.118, 0.118, 0.118, 0.918, 0.118, 0.118, 0.118,\n",
       "        0.118, 0.118, 0.118, 0.118, 0.924, 0.118, 0.118, 0.118, 0.918,\n",
       "        0.118, 0.704]),\n",
       " 'std_test_score': array([0.00244949, 0.00244949, 0.00244949, 0.00244949, 0.00244949,\n",
       "        0.016     , 0.00244949, 0.00244949, 0.00244949, 0.00244949,\n",
       "        0.00244949, 0.00244949, 0.00244949, 0.01714643, 0.00244949,\n",
       "        0.00244949, 0.00244949, 0.016     , 0.00244949, 0.01319091]),\n",
       " 'rank_test_score': array([5, 5, 5, 5, 5, 2, 5, 5, 5, 5, 5, 5, 5, 1, 5, 5, 5, 2, 5, 4],\n",
       "       dtype=int32)}"
      ]
     },
     "execution_count": 52,
     "metadata": {},
     "output_type": "execute_result"
    }
   ],
   "source": [
    "#get the full experiment\n",
    "res.cv_results_"
   ]
  },
  {
   "cell_type": "markdown",
   "metadata": {},
   "source": [
    "### E1.2: Pipelines and simple Neural Networks\n",
    "Split the MNIST data into  train- and test-sets and then train and evaluate a simple Multi Layer Perceptron (MLP) network. Since the non-linear activation functions of MLPs are sensitive to the scaling on the input (recall the *sigmoid* function), we need to scale all input values to [0,1] \n",
    "\n",
    "* combine all steps of your training in a SKL pipeline (https://scikit-learn.org/stable/modules/compose.html#pipeline)\n",
    "* use a SKL-scaler to scale the data (https://scikit-learn.org/stable/modules/generated/sklearn.preprocessing.StandardScaler.html)\n",
    "* MLP Parameters: https://scikit-learn.org/stable/modules/generated/sklearn.neural_network.MLPClassifier.html#sklearn.neural_network.MLPClassifier\n",
    "    * use a *SGD* solver\n",
    "    * use *tanh* as activation function\n",
    "    * compare networks with 1, 2 and 3 layers, use different numbers of neurons per layer\n",
    "    * adjust training parameters *alpha* (regularization) and *learning rate* - how sensitive is the model to these parameters?\n",
    "    * Hint: do not change all parameters at the same time, split into several experiments\n",
    "* How hard is it to find the best parameters? How many experiments would you need to find the best parameters?\n",
    "    \n"
   ]
  },
  {
   "cell_type": "code",
   "execution_count": 29,
   "metadata": {},
   "outputs": [],
   "source": [
    "#imports\n",
    "from sklearn.neural_network import MLPClassifier\n",
    "from sklearn.preprocessing import StandardScaler\n",
    "from sklearn.pipeline import make_pipeline"
   ]
  },
  {
   "cell_type": "code",
   "execution_count": 36,
   "metadata": {},
   "outputs": [],
   "source": [
    "#make pipeline\n",
    "clf = make_pipeline(StandardScaler(), MLPClassifier(random_state=1,activation='tanh', hidden_layer_sizes=(64,64), solver='sgd', alpha=0.0001, max_iter=300))\n",
    "#MLP parameters:\n",
    "#hidden_layer_sizes=(64,64) - tuple gives number of layers with number of neurons each"
   ]
  },
  {
   "cell_type": "code",
   "execution_count": 37,
   "metadata": {},
   "outputs": [
    {
     "data": {
      "text/plain": [
       "Pipeline(memory=None,\n",
       "         steps=[('standardscaler',\n",
       "                 StandardScaler(copy=True, with_mean=True, with_std=True)),\n",
       "                ('mlpclassifier',\n",
       "                 MLPClassifier(activation='tanh', alpha=0.0001,\n",
       "                               batch_size='auto', beta_1=0.9, beta_2=0.999,\n",
       "                               early_stopping=False, epsilon=1e-08,\n",
       "                               hidden_layer_sizes=(64, 64),\n",
       "                               learning_rate='constant',\n",
       "                               learning_rate_init=0.001, max_fun=15000,\n",
       "                               max_iter=300, momentum=0.9, n_iter_no_change=10,\n",
       "                               nesterovs_momentum=True, power_t=0.5,\n",
       "                               random_state=1, shuffle=True, solver='sgd',\n",
       "                               tol=0.0001, validation_fraction=0.1,\n",
       "                               verbose=False, warm_start=False))],\n",
       "         verbose=False)"
      ]
     },
     "execution_count": 37,
     "metadata": {},
     "output_type": "execute_result"
    }
   ],
   "source": [
    "clf.fit(X_train,y_train)"
   ]
  },
  {
   "cell_type": "code",
   "execution_count": 38,
   "metadata": {},
   "outputs": [
    {
     "data": {
      "text/plain": [
       "0.9561142857142857"
      ]
     },
     "execution_count": 38,
     "metadata": {},
     "output_type": "execute_result"
    }
   ],
   "source": [
    "#get test accuracy\n",
    "clf.score(X_test,y_test)"
   ]
  },
  {
   "cell_type": "code",
   "execution_count": null,
   "metadata": {},
   "outputs": [],
   "source": []
  }
 ],
 "metadata": {
  "kernelspec": {
   "display_name": "Python 3",
   "language": "python",
   "name": "python3"
  },
  "language_info": {
   "codemirror_mode": {
    "name": "ipython",
    "version": 3
   },
   "file_extension": ".py",
   "mimetype": "text/x-python",
   "name": "python",
   "nbconvert_exporter": "python",
   "pygments_lexer": "ipython3",
   "version": "3.7.6"
  }
 },
 "nbformat": 4,
 "nbformat_minor": 4
}
